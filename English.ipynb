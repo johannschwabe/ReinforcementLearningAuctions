{
 "cells": [
  {
   "cell_type": "code",
   "execution_count": 7,
   "metadata": {
    "collapsed": true,
    "pycharm": {
     "name": "#%%\n"
    }
   },
   "outputs": [],
   "source": [
    "import  ray, gym\n",
    "from ray import tune\n",
    "import numpy as np\n",
    "from gym import spaces\n",
    "from ray.rllib.agents.ppo import PPOTrainer"
   ]
  },
  {
   "cell_type": "code",
   "execution_count": 8,
   "outputs": [],
   "source": [
    "class EnlishAuction(gym.Env):\n",
    "    def __init__(self, env_config):\n",
    "        self.action_space = []\n",
    "        self.observation_space = []\n",
    "        self.reward_range = (-200,200)\n",
    "        self._state = np.zeros(shape=(1,7), dtype=np.int32)\n",
    "        self.agents = env_config[\"agents\"]\n",
    "        for _ in self.agents:\n",
    "            self.action_space.append(spaces.Discrete(3))\n",
    "            self.observation_space.append(spaces.Box(low=0,high=100,shape=(1,5), dtype=np.int16))\n",
    "        self.reset()\n",
    "\n",
    "    def reset(self):\n",
    "        self._state = np.zeros(shape=(1,7), dtype=np.int32)\n",
    "        self._state[0,1:3] = 2\n",
    "        valuations = np.zeros((4,))\n",
    "        for x in range(2):\n",
    "            valu = np.random.rand(1,2)\n",
    "            valuations[0,2*x] = np.amax(valu) * 100\n",
    "            valuations[0,1+2*x] = np.amin(valu) * 100\n",
    "\n",
    "        self._state[:,3:7] = valuations\n",
    "\n",
    "        obs_n = []\n",
    "        for i, agent in enumerate(self.agents):\n",
    "            obs_n.append(self._observation(i))\n",
    "        return obs_n\n",
    "\n",
    "    def step(self, action_n):\n",
    "        obs_n = []\n",
    "        reward_n = []\n",
    "        done_n = []\n",
    "\n",
    "        for i, agent in enumerate(self.agents):\n",
    "            obs_n.append(self._observation(i))\n",
    "            reward_n.append(self._reward(i,action_n))\n",
    "            done_n.append(np.sum(action_n) <= 2)\n",
    "        return obs_n, reward_n, done_n\n",
    "\n",
    "    def _observation(self, i):\n",
    "        my_index = i\n",
    "        enemy_index = (i + 1) % 2\n",
    "\n",
    "        price = self._state[0]\n",
    "        my_demand = self._state[my_index + 1]\n",
    "        enemy_demand = self._state[enemy_index + 1]\n",
    "        my_valuations = self._state[3 + my_index * 2: 5 + my_index * 2]\n",
    "        res = []\n",
    "        res.extend([price,my_demand,enemy_demand])\n",
    "        res.extend(my_valuations)\n",
    "        return res\n",
    "\n",
    "    def _final_reward_i(self,i, bid):\n",
    "        if bid == 0:\n",
    "            return 0\n",
    "        res = self._state[3 + i * 2]\n",
    "        if bid == 2:\n",
    "            res += self._state[4 + i * 2]\n",
    "        res -= self._state[0] * bid\n",
    "        return res\n",
    "\n",
    "\n",
    "    def _reward(self, i, action_n):\n",
    "        if np.sum(action_n) <= 2:\n",
    "            return self._final_reward_i(i, action_n[i])\n",
    "        return 0\n",
    "\n",
    "    def render(self, mode='human'):\n",
    "        pass"
   ],
   "metadata": {
    "collapsed": false,
    "pycharm": {
     "name": "#%%\n"
    }
   }
  },
  {
   "cell_type": "code",
   "execution_count": 9,
   "outputs": [],
   "source": [
    "def get_rllib_config(seeds, debug=False, stop_iters=200):\n",
    "    stop_config = {\n",
    "        \"training_iteration\": 2 if debug else stop_iters,\n",
    "    }\n",
    "    env_config = {\n",
    "        \"agents\": [0,1]\n",
    "    }\n",
    "    mock = EnlishAuction(env_config)\n",
    "    rllib_config = {\n",
    "        \"env\": EnlishAuction,\n",
    "        \"env_config\": env_config,\n",
    "        \"multiagent\": {\n",
    "            \"policies\": {\n",
    "                \"ppo_policy\": (None, mock.observation_space, mock.action_space, {})\n",
    "            },\n",
    "            \"policy_mapping_fn\": lambda agent_id: agent_id,\n",
    "        },\n",
    "        \"seed\": tune.grid_search(seeds),\n",
    "        \"num_gpus\": 0,\n",
    "        \"framework\": \"tf\",\n",
    "        \"lr\": 5e-3,\n",
    "        \"train_batch_size\": 64\n",
    "    }\n",
    "\n",
    "    return rllib_config, stop_config, env_config"
   ],
   "metadata": {
    "collapsed": false,
    "pycharm": {
     "name": "#%%\n"
    }
   }
  },
  {
   "cell_type": "code",
   "execution_count": 10,
   "outputs": [],
   "source": [
    "def main():\n",
    "    train_n_replicas = 1\n",
    "    seeds = list(range(train_n_replicas))\n",
    "    ray.init()\n",
    "    rllib_config, stop_config, env_config = get_rllib_config(seeds)\n",
    "    tune_analysis = tune.run(PPOTrainer,\n",
    "                             config=rllib_config,\n",
    "                             stop=stop_config,\n",
    "                             checkpoint_freq=0,\n",
    "                             checkpoint_at_end=True,\n",
    "                             name=\"PPO_English\")\n",
    "    ray.shutdown()\n",
    "    return tune_analysis"
   ],
   "metadata": {
    "collapsed": false,
    "pycharm": {
     "name": "#%%\n"
    }
   }
  },
  {
   "cell_type": "code",
   "execution_count": 11,
   "outputs": [
    {
     "ename": "RuntimeError",
     "evalue": "Maybe you called ray.init twice by accident? This error can be suppressed by passing in 'ignore_reinit_error=True' or by calling 'ray.shutdown()' prior to 'ray.init()'.",
     "output_type": "error",
     "traceback": [
      "\u001B[0;31m---------------------------------------------------------------------------\u001B[0m",
      "\u001B[0;31mRuntimeError\u001B[0m                              Traceback (most recent call last)",
      "\u001B[0;32m<ipython-input-11-263240bbee7e>\u001B[0m in \u001B[0;36m<module>\u001B[0;34m\u001B[0m\n\u001B[0;32m----> 1\u001B[0;31m \u001B[0mmain\u001B[0m\u001B[0;34m(\u001B[0m\u001B[0;34m)\u001B[0m\u001B[0;34m\u001B[0m\u001B[0;34m\u001B[0m\u001B[0m\n\u001B[0m",
      "\u001B[0;32m<ipython-input-10-33946fcd01e6>\u001B[0m in \u001B[0;36mmain\u001B[0;34m()\u001B[0m\n\u001B[1;32m      2\u001B[0m     \u001B[0mtrain_n_replicas\u001B[0m \u001B[0;34m=\u001B[0m \u001B[0;36m1\u001B[0m\u001B[0;34m\u001B[0m\u001B[0;34m\u001B[0m\u001B[0m\n\u001B[1;32m      3\u001B[0m     \u001B[0mseeds\u001B[0m \u001B[0;34m=\u001B[0m \u001B[0mlist\u001B[0m\u001B[0;34m(\u001B[0m\u001B[0mrange\u001B[0m\u001B[0;34m(\u001B[0m\u001B[0mtrain_n_replicas\u001B[0m\u001B[0;34m)\u001B[0m\u001B[0;34m)\u001B[0m\u001B[0;34m\u001B[0m\u001B[0;34m\u001B[0m\u001B[0m\n\u001B[0;32m----> 4\u001B[0;31m     \u001B[0mray\u001B[0m\u001B[0;34m.\u001B[0m\u001B[0minit\u001B[0m\u001B[0;34m(\u001B[0m\u001B[0;34m)\u001B[0m\u001B[0;34m\u001B[0m\u001B[0;34m\u001B[0m\u001B[0m\n\u001B[0m\u001B[1;32m      5\u001B[0m     \u001B[0mrllib_config\u001B[0m\u001B[0;34m,\u001B[0m \u001B[0mstop_config\u001B[0m\u001B[0;34m,\u001B[0m \u001B[0menv_config\u001B[0m \u001B[0;34m=\u001B[0m \u001B[0mget_rllib_config\u001B[0m\u001B[0;34m(\u001B[0m\u001B[0mseeds\u001B[0m\u001B[0;34m)\u001B[0m\u001B[0;34m\u001B[0m\u001B[0;34m\u001B[0m\u001B[0m\n\u001B[1;32m      6\u001B[0m     tune_analysis = tune.run(PPOTrainer,\n",
      "\u001B[0;32m~/Documents/git/MML/venv/lib/python3.8/site-packages/ray/_private/client_mode_hook.py\u001B[0m in \u001B[0;36mwrapper\u001B[0;34m(*args, **kwargs)\u001B[0m\n\u001B[1;32m     45\u001B[0m         \u001B[0;32mif\u001B[0m \u001B[0mclient_mode_should_convert\u001B[0m\u001B[0;34m(\u001B[0m\u001B[0;34m)\u001B[0m\u001B[0;34m:\u001B[0m\u001B[0;34m\u001B[0m\u001B[0;34m\u001B[0m\u001B[0m\n\u001B[1;32m     46\u001B[0m             \u001B[0;32mreturn\u001B[0m \u001B[0mgetattr\u001B[0m\u001B[0;34m(\u001B[0m\u001B[0mray\u001B[0m\u001B[0;34m,\u001B[0m \u001B[0mfunc\u001B[0m\u001B[0;34m.\u001B[0m\u001B[0m__name__\u001B[0m\u001B[0;34m)\u001B[0m\u001B[0;34m(\u001B[0m\u001B[0;34m*\u001B[0m\u001B[0margs\u001B[0m\u001B[0;34m,\u001B[0m \u001B[0;34m**\u001B[0m\u001B[0mkwargs\u001B[0m\u001B[0;34m)\u001B[0m\u001B[0;34m\u001B[0m\u001B[0;34m\u001B[0m\u001B[0m\n\u001B[0;32m---> 47\u001B[0;31m         \u001B[0;32mreturn\u001B[0m \u001B[0mfunc\u001B[0m\u001B[0;34m(\u001B[0m\u001B[0;34m*\u001B[0m\u001B[0margs\u001B[0m\u001B[0;34m,\u001B[0m \u001B[0;34m**\u001B[0m\u001B[0mkwargs\u001B[0m\u001B[0;34m)\u001B[0m\u001B[0;34m\u001B[0m\u001B[0;34m\u001B[0m\u001B[0m\n\u001B[0m\u001B[1;32m     48\u001B[0m \u001B[0;34m\u001B[0m\u001B[0m\n\u001B[1;32m     49\u001B[0m     \u001B[0;32mreturn\u001B[0m \u001B[0mwrapper\u001B[0m\u001B[0;34m\u001B[0m\u001B[0;34m\u001B[0m\u001B[0m\n",
      "\u001B[0;32m~/Documents/git/MML/venv/lib/python3.8/site-packages/ray/worker.py\u001B[0m in \u001B[0;36minit\u001B[0;34m(address, num_cpus, num_gpus, resources, object_store_memory, local_mode, ignore_reinit_error, include_dashboard, dashboard_host, dashboard_port, job_config, configure_logging, logging_level, logging_format, log_to_driver, _enable_object_reconstruction, _redis_max_memory, _plasma_directory, _node_ip_address, _driver_object_store_memory, _memory, _redis_password, _temp_dir, _lru_evict, _metrics_export_port, _system_config)\u001B[0m\n\u001B[1;32m    652\u001B[0m             \u001B[0;32mreturn\u001B[0m\u001B[0;34m\u001B[0m\u001B[0;34m\u001B[0m\u001B[0m\n\u001B[1;32m    653\u001B[0m         \u001B[0;32melse\u001B[0m\u001B[0;34m:\u001B[0m\u001B[0;34m\u001B[0m\u001B[0;34m\u001B[0m\u001B[0m\n\u001B[0;32m--> 654\u001B[0;31m             raise RuntimeError(\"Maybe you called ray.init twice by accident? \"\n\u001B[0m\u001B[1;32m    655\u001B[0m                                \u001B[0;34m\"This error can be suppressed by passing in \"\u001B[0m\u001B[0;34m\u001B[0m\u001B[0;34m\u001B[0m\u001B[0m\n\u001B[1;32m    656\u001B[0m                                \u001B[0;34m\"'ignore_reinit_error=True' or by calling \"\u001B[0m\u001B[0;34m\u001B[0m\u001B[0;34m\u001B[0m\u001B[0m\n",
      "\u001B[0;31mRuntimeError\u001B[0m: Maybe you called ray.init twice by accident? This error can be suppressed by passing in 'ignore_reinit_error=True' or by calling 'ray.shutdown()' prior to 'ray.init()'."
     ]
    }
   ],
   "source": [
    "main()"
   ],
   "metadata": {
    "collapsed": false,
    "pycharm": {
     "name": "#%%\n"
    }
   }
  }
 ],
 "metadata": {
  "kernelspec": {
   "display_name": "Python 3",
   "language": "python",
   "name": "python3"
  },
  "language_info": {
   "codemirror_mode": {
    "name": "ipython",
    "version": 2
   },
   "file_extension": ".py",
   "mimetype": "text/x-python",
   "name": "python",
   "nbconvert_exporter": "python",
   "pygments_lexer": "ipython2",
   "version": "2.7.6"
  }
 },
 "nbformat": 4,
 "nbformat_minor": 0
}